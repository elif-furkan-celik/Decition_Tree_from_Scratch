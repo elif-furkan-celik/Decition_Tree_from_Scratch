{
  "nbformat": 4,
  "nbformat_minor": 0,
  "metadata": {
    "colab": {
      "name": "Decision_tree.ipynb",
      "provenance": [],
      "collapsed_sections": []
    },
    "kernelspec": {
      "name": "python3",
      "display_name": "Python 3"
    }
  },
  "cells": [
    {
      "cell_type": "code",
      "metadata": {
        "id": "OO7fya6sS8A3"
      },
      "source": [
        "import numpy as np\n",
        "import pandas as pd\n",
        "from pprint import pprint"
      ],
      "execution_count": 3,
      "outputs": []
    },
    {
      "cell_type": "code",
      "metadata": {
        "colab": {
          "base_uri": "https://localhost:8080/",
          "height": 419
        },
        "id": "NQoiM1Mnw8Ay",
        "outputId": "7ccd5184-eff4-444d-8266-2ba88af19774"
      },
      "source": [
        "dataset = pd.read_csv('/content/drive/MyDrive/zoo.csv',\n",
        "                      names=['hair','feathers','eggs','milk',\n",
        "                                                   'airbone','aquatic','predator','toothed','backbone',\n",
        "                                                  'breathes','venomous','fins','legs','tail','domestic','catsize','class',])#Özelllik isimleri ve label ismi yandaki gibi olacak şekilde tüm datayı okuduk\n",
        "dataset"
      ],
      "execution_count": 13,
      "outputs": [
        {
          "output_type": "execute_result",
          "data": {
            "text/html": [
              "<div>\n",
              "<style scoped>\n",
              "    .dataframe tbody tr th:only-of-type {\n",
              "        vertical-align: middle;\n",
              "    }\n",
              "\n",
              "    .dataframe tbody tr th {\n",
              "        vertical-align: top;\n",
              "    }\n",
              "\n",
              "    .dataframe thead th {\n",
              "        text-align: right;\n",
              "    }\n",
              "</style>\n",
              "<table border=\"1\" class=\"dataframe\">\n",
              "  <thead>\n",
              "    <tr style=\"text-align: right;\">\n",
              "      <th></th>\n",
              "      <th>hair</th>\n",
              "      <th>feathers</th>\n",
              "      <th>eggs</th>\n",
              "      <th>milk</th>\n",
              "      <th>airbone</th>\n",
              "      <th>aquatic</th>\n",
              "      <th>predator</th>\n",
              "      <th>toothed</th>\n",
              "      <th>backbone</th>\n",
              "      <th>breathes</th>\n",
              "      <th>venomous</th>\n",
              "      <th>fins</th>\n",
              "      <th>legs</th>\n",
              "      <th>tail</th>\n",
              "      <th>domestic</th>\n",
              "      <th>catsize</th>\n",
              "      <th>class</th>\n",
              "    </tr>\n",
              "  </thead>\n",
              "  <tbody>\n",
              "    <tr>\n",
              "      <th>0</th>\n",
              "      <td>1</td>\n",
              "      <td>0</td>\n",
              "      <td>0</td>\n",
              "      <td>1</td>\n",
              "      <td>0</td>\n",
              "      <td>0</td>\n",
              "      <td>1</td>\n",
              "      <td>1</td>\n",
              "      <td>1</td>\n",
              "      <td>1</td>\n",
              "      <td>0</td>\n",
              "      <td>0</td>\n",
              "      <td>4</td>\n",
              "      <td>0</td>\n",
              "      <td>0</td>\n",
              "      <td>1</td>\n",
              "      <td>1</td>\n",
              "    </tr>\n",
              "    <tr>\n",
              "      <th>1</th>\n",
              "      <td>1</td>\n",
              "      <td>0</td>\n",
              "      <td>0</td>\n",
              "      <td>1</td>\n",
              "      <td>0</td>\n",
              "      <td>0</td>\n",
              "      <td>0</td>\n",
              "      <td>1</td>\n",
              "      <td>1</td>\n",
              "      <td>1</td>\n",
              "      <td>0</td>\n",
              "      <td>0</td>\n",
              "      <td>4</td>\n",
              "      <td>1</td>\n",
              "      <td>0</td>\n",
              "      <td>1</td>\n",
              "      <td>1</td>\n",
              "    </tr>\n",
              "    <tr>\n",
              "      <th>2</th>\n",
              "      <td>0</td>\n",
              "      <td>0</td>\n",
              "      <td>1</td>\n",
              "      <td>0</td>\n",
              "      <td>0</td>\n",
              "      <td>1</td>\n",
              "      <td>1</td>\n",
              "      <td>1</td>\n",
              "      <td>1</td>\n",
              "      <td>0</td>\n",
              "      <td>0</td>\n",
              "      <td>1</td>\n",
              "      <td>0</td>\n",
              "      <td>1</td>\n",
              "      <td>0</td>\n",
              "      <td>0</td>\n",
              "      <td>4</td>\n",
              "    </tr>\n",
              "    <tr>\n",
              "      <th>3</th>\n",
              "      <td>1</td>\n",
              "      <td>0</td>\n",
              "      <td>0</td>\n",
              "      <td>1</td>\n",
              "      <td>0</td>\n",
              "      <td>0</td>\n",
              "      <td>1</td>\n",
              "      <td>1</td>\n",
              "      <td>1</td>\n",
              "      <td>1</td>\n",
              "      <td>0</td>\n",
              "      <td>0</td>\n",
              "      <td>4</td>\n",
              "      <td>0</td>\n",
              "      <td>0</td>\n",
              "      <td>1</td>\n",
              "      <td>1</td>\n",
              "    </tr>\n",
              "    <tr>\n",
              "      <th>4</th>\n",
              "      <td>1</td>\n",
              "      <td>0</td>\n",
              "      <td>0</td>\n",
              "      <td>1</td>\n",
              "      <td>0</td>\n",
              "      <td>0</td>\n",
              "      <td>1</td>\n",
              "      <td>1</td>\n",
              "      <td>1</td>\n",
              "      <td>1</td>\n",
              "      <td>0</td>\n",
              "      <td>0</td>\n",
              "      <td>4</td>\n",
              "      <td>1</td>\n",
              "      <td>0</td>\n",
              "      <td>1</td>\n",
              "      <td>1</td>\n",
              "    </tr>\n",
              "    <tr>\n",
              "      <th>...</th>\n",
              "      <td>...</td>\n",
              "      <td>...</td>\n",
              "      <td>...</td>\n",
              "      <td>...</td>\n",
              "      <td>...</td>\n",
              "      <td>...</td>\n",
              "      <td>...</td>\n",
              "      <td>...</td>\n",
              "      <td>...</td>\n",
              "      <td>...</td>\n",
              "      <td>...</td>\n",
              "      <td>...</td>\n",
              "      <td>...</td>\n",
              "      <td>...</td>\n",
              "      <td>...</td>\n",
              "      <td>...</td>\n",
              "      <td>...</td>\n",
              "    </tr>\n",
              "    <tr>\n",
              "      <th>96</th>\n",
              "      <td>1</td>\n",
              "      <td>0</td>\n",
              "      <td>0</td>\n",
              "      <td>1</td>\n",
              "      <td>0</td>\n",
              "      <td>0</td>\n",
              "      <td>0</td>\n",
              "      <td>1</td>\n",
              "      <td>1</td>\n",
              "      <td>1</td>\n",
              "      <td>0</td>\n",
              "      <td>0</td>\n",
              "      <td>2</td>\n",
              "      <td>1</td>\n",
              "      <td>0</td>\n",
              "      <td>1</td>\n",
              "      <td>1</td>\n",
              "    </tr>\n",
              "    <tr>\n",
              "      <th>97</th>\n",
              "      <td>1</td>\n",
              "      <td>0</td>\n",
              "      <td>1</td>\n",
              "      <td>0</td>\n",
              "      <td>1</td>\n",
              "      <td>0</td>\n",
              "      <td>0</td>\n",
              "      <td>0</td>\n",
              "      <td>0</td>\n",
              "      <td>1</td>\n",
              "      <td>1</td>\n",
              "      <td>0</td>\n",
              "      <td>6</td>\n",
              "      <td>0</td>\n",
              "      <td>0</td>\n",
              "      <td>0</td>\n",
              "      <td>6</td>\n",
              "    </tr>\n",
              "    <tr>\n",
              "      <th>98</th>\n",
              "      <td>1</td>\n",
              "      <td>0</td>\n",
              "      <td>0</td>\n",
              "      <td>1</td>\n",
              "      <td>0</td>\n",
              "      <td>0</td>\n",
              "      <td>1</td>\n",
              "      <td>1</td>\n",
              "      <td>1</td>\n",
              "      <td>1</td>\n",
              "      <td>0</td>\n",
              "      <td>0</td>\n",
              "      <td>4</td>\n",
              "      <td>1</td>\n",
              "      <td>0</td>\n",
              "      <td>1</td>\n",
              "      <td>1</td>\n",
              "    </tr>\n",
              "    <tr>\n",
              "      <th>99</th>\n",
              "      <td>0</td>\n",
              "      <td>0</td>\n",
              "      <td>1</td>\n",
              "      <td>0</td>\n",
              "      <td>0</td>\n",
              "      <td>0</td>\n",
              "      <td>0</td>\n",
              "      <td>0</td>\n",
              "      <td>0</td>\n",
              "      <td>1</td>\n",
              "      <td>0</td>\n",
              "      <td>0</td>\n",
              "      <td>0</td>\n",
              "      <td>0</td>\n",
              "      <td>0</td>\n",
              "      <td>0</td>\n",
              "      <td>7</td>\n",
              "    </tr>\n",
              "    <tr>\n",
              "      <th>100</th>\n",
              "      <td>0</td>\n",
              "      <td>1</td>\n",
              "      <td>1</td>\n",
              "      <td>0</td>\n",
              "      <td>1</td>\n",
              "      <td>0</td>\n",
              "      <td>0</td>\n",
              "      <td>0</td>\n",
              "      <td>1</td>\n",
              "      <td>1</td>\n",
              "      <td>0</td>\n",
              "      <td>0</td>\n",
              "      <td>2</td>\n",
              "      <td>1</td>\n",
              "      <td>0</td>\n",
              "      <td>0</td>\n",
              "      <td>2</td>\n",
              "    </tr>\n",
              "  </tbody>\n",
              "</table>\n",
              "<p>101 rows × 17 columns</p>\n",
              "</div>"
            ],
            "text/plain": [
              "     hair  feathers  eggs  milk  airbone  ...  legs  tail  domestic  catsize  class\n",
              "0       1         0     0     1        0  ...     4     0         0        1      1\n",
              "1       1         0     0     1        0  ...     4     1         0        1      1\n",
              "2       0         0     1     0        0  ...     0     1         0        0      4\n",
              "3       1         0     0     1        0  ...     4     0         0        1      1\n",
              "4       1         0     0     1        0  ...     4     1         0        1      1\n",
              "..    ...       ...   ...   ...      ...  ...   ...   ...       ...      ...    ...\n",
              "96      1         0     0     1        0  ...     2     1         0        1      1\n",
              "97      1         0     1     0        1  ...     6     0         0        0      6\n",
              "98      1         0     0     1        0  ...     4     1         0        1      1\n",
              "99      0         0     1     0        0  ...     0     0         0        0      7\n",
              "100     0         1     1     0        1  ...     2     1         0        0      2\n",
              "\n",
              "[101 rows x 17 columns]"
            ]
          },
          "metadata": {
            "tags": []
          },
          "execution_count": 13
        }
      ]
    },
    {
      "cell_type": "markdown",
      "metadata": {
        "id": "pvgvWEEx2SrK"
      },
      "source": [
        "Datasetteki veriler:"
      ]
    },
    {
      "cell_type": "code",
      "metadata": {
        "colab": {
          "base_uri": "https://localhost:8080/"
        },
        "id": "82dg1zZ71-gi",
        "outputId": "4dcad8b7-f91e-403a-edb5-9f2bd9ded6be"
      },
      "source": [
        "for i in dataset.columns:\n",
        "    print(dataset[i].value_counts())#Burada datasetteki her bir özelliğin kaç farklı değeri ve onların kaç sayıda olduğunu gösterir."
      ],
      "execution_count": 14,
      "outputs": [
        {
          "output_type": "stream",
          "text": [
            "0    58\n",
            "1    43\n",
            "Name: hair, dtype: int64\n",
            "0    81\n",
            "1    20\n",
            "Name: feathers, dtype: int64\n",
            "1    59\n",
            "0    42\n",
            "Name: eggs, dtype: int64\n",
            "0    60\n",
            "1    41\n",
            "Name: milk, dtype: int64\n",
            "0    77\n",
            "1    24\n",
            "Name: airbone, dtype: int64\n",
            "0    65\n",
            "1    36\n",
            "Name: aquatic, dtype: int64\n",
            "1    56\n",
            "0    45\n",
            "Name: predator, dtype: int64\n",
            "1    61\n",
            "0    40\n",
            "Name: toothed, dtype: int64\n",
            "1    83\n",
            "0    18\n",
            "Name: backbone, dtype: int64\n",
            "1    80\n",
            "0    21\n",
            "Name: breathes, dtype: int64\n",
            "0    93\n",
            "1     8\n",
            "Name: venomous, dtype: int64\n",
            "0    84\n",
            "1    17\n",
            "Name: fins, dtype: int64\n",
            "4    38\n",
            "2    27\n",
            "0    23\n",
            "6    10\n",
            "8     2\n",
            "5     1\n",
            "Name: legs, dtype: int64\n",
            "1    75\n",
            "0    26\n",
            "Name: tail, dtype: int64\n",
            "0    88\n",
            "1    13\n",
            "Name: domestic, dtype: int64\n",
            "0    57\n",
            "1    44\n",
            "Name: catsize, dtype: int64\n",
            "1    41\n",
            "2    20\n",
            "4    13\n",
            "7    10\n",
            "6     8\n",
            "3     5\n",
            "5     4\n",
            "Name: class, dtype: int64\n"
          ],
          "name": "stdout"
        }
      ]
    },
    {
      "cell_type": "markdown",
      "metadata": {
        "id": "vPFnQh_YwYp0"
      },
      "source": [
        "Feature Selection:"
      ]
    },
    {
      "cell_type": "code",
      "metadata": {
        "colab": {
          "base_uri": "https://localhost:8080/"
        },
        "id": "DzR3Rs6suXof",
        "outputId": "e6284c13-59d7-4461-e10d-92ae544514d9"
      },
      "source": [
        "from sklearn.linear_model import LogisticRegression\n",
        "from sklearn.feature_selection import SelectFromModel\n",
        "\n",
        "embeded_lr_feature = []\n",
        "\n",
        "embeded_lr_selector = SelectFromModel(LogisticRegression(penalty=\"l2\"), max_features=5) #Logistic regression tabanlı feature selection modeli oluşturur.\n",
        "embeded_lr_selector.fit(dataset[dataset.columns[:-1]], dataset['class'])#Modele datanı ve labelını vererek çalıştırır.\n",
        "embeded_lr_support = embeded_lr_selector.get_support()#En iyi özellikleri seçer\n",
        "embeded_lr_feature.append(dataset[dataset.columns[:-1]].loc[:,embeded_lr_support].columns.tolist())#En iyi özelliklerin isimlerini alır.\n",
        "\n",
        "embeded_lr_feature"
      ],
      "execution_count": 15,
      "outputs": [
        {
          "output_type": "stream",
          "text": [
            "/usr/local/lib/python3.6/dist-packages/sklearn/linear_model/_logistic.py:940: ConvergenceWarning: lbfgs failed to converge (status=1):\n",
            "STOP: TOTAL NO. of ITERATIONS REACHED LIMIT.\n",
            "\n",
            "Increase the number of iterations (max_iter) or scale the data as shown in:\n",
            "    https://scikit-learn.org/stable/modules/preprocessing.html\n",
            "Please also refer to the documentation for alternative solver options:\n",
            "    https://scikit-learn.org/stable/modules/linear_model.html#logistic-regression\n",
            "  extra_warning_msg=_LOGISTIC_SOLVER_CONVERGENCE_MSG)\n"
          ],
          "name": "stderr"
        },
        {
          "output_type": "execute_result",
          "data": {
            "text/plain": [
              "[['feathers', 'toothed', 'backbone', 'breathes', 'tail']]"
            ]
          },
          "metadata": {
            "tags": []
          },
          "execution_count": 15
        }
      ]
    },
    {
      "cell_type": "code",
      "metadata": {
        "colab": {
          "base_uri": "https://localhost:8080/",
          "height": 419
        },
        "id": "h9GjegjnxdkX",
        "outputId": "a6880581-eba4-4d39-9088-64ce5ee7676f"
      },
      "source": [
        "for i in dataset.columns[:-1]:\n",
        "    if i != embeded_lr_feature[0][0] and i != embeded_lr_feature[0][1] and i != embeded_lr_feature[0][2] and i != embeded_lr_feature[0][3] and i != embeded_lr_feature[0][4]:#Datasetteki en iyi özellikler dışındaki tüm özellikleri siler.\n",
        "        dataset = dataset.drop(i, axis=1)\n",
        "dataset"
      ],
      "execution_count": 17,
      "outputs": [
        {
          "output_type": "execute_result",
          "data": {
            "text/html": [
              "<div>\n",
              "<style scoped>\n",
              "    .dataframe tbody tr th:only-of-type {\n",
              "        vertical-align: middle;\n",
              "    }\n",
              "\n",
              "    .dataframe tbody tr th {\n",
              "        vertical-align: top;\n",
              "    }\n",
              "\n",
              "    .dataframe thead th {\n",
              "        text-align: right;\n",
              "    }\n",
              "</style>\n",
              "<table border=\"1\" class=\"dataframe\">\n",
              "  <thead>\n",
              "    <tr style=\"text-align: right;\">\n",
              "      <th></th>\n",
              "      <th>feathers</th>\n",
              "      <th>toothed</th>\n",
              "      <th>backbone</th>\n",
              "      <th>breathes</th>\n",
              "      <th>tail</th>\n",
              "      <th>class</th>\n",
              "    </tr>\n",
              "  </thead>\n",
              "  <tbody>\n",
              "    <tr>\n",
              "      <th>0</th>\n",
              "      <td>0</td>\n",
              "      <td>1</td>\n",
              "      <td>1</td>\n",
              "      <td>1</td>\n",
              "      <td>0</td>\n",
              "      <td>1</td>\n",
              "    </tr>\n",
              "    <tr>\n",
              "      <th>1</th>\n",
              "      <td>0</td>\n",
              "      <td>1</td>\n",
              "      <td>1</td>\n",
              "      <td>1</td>\n",
              "      <td>1</td>\n",
              "      <td>1</td>\n",
              "    </tr>\n",
              "    <tr>\n",
              "      <th>2</th>\n",
              "      <td>0</td>\n",
              "      <td>1</td>\n",
              "      <td>1</td>\n",
              "      <td>0</td>\n",
              "      <td>1</td>\n",
              "      <td>4</td>\n",
              "    </tr>\n",
              "    <tr>\n",
              "      <th>3</th>\n",
              "      <td>0</td>\n",
              "      <td>1</td>\n",
              "      <td>1</td>\n",
              "      <td>1</td>\n",
              "      <td>0</td>\n",
              "      <td>1</td>\n",
              "    </tr>\n",
              "    <tr>\n",
              "      <th>4</th>\n",
              "      <td>0</td>\n",
              "      <td>1</td>\n",
              "      <td>1</td>\n",
              "      <td>1</td>\n",
              "      <td>1</td>\n",
              "      <td>1</td>\n",
              "    </tr>\n",
              "    <tr>\n",
              "      <th>...</th>\n",
              "      <td>...</td>\n",
              "      <td>...</td>\n",
              "      <td>...</td>\n",
              "      <td>...</td>\n",
              "      <td>...</td>\n",
              "      <td>...</td>\n",
              "    </tr>\n",
              "    <tr>\n",
              "      <th>96</th>\n",
              "      <td>0</td>\n",
              "      <td>1</td>\n",
              "      <td>1</td>\n",
              "      <td>1</td>\n",
              "      <td>1</td>\n",
              "      <td>1</td>\n",
              "    </tr>\n",
              "    <tr>\n",
              "      <th>97</th>\n",
              "      <td>0</td>\n",
              "      <td>0</td>\n",
              "      <td>0</td>\n",
              "      <td>1</td>\n",
              "      <td>0</td>\n",
              "      <td>6</td>\n",
              "    </tr>\n",
              "    <tr>\n",
              "      <th>98</th>\n",
              "      <td>0</td>\n",
              "      <td>1</td>\n",
              "      <td>1</td>\n",
              "      <td>1</td>\n",
              "      <td>1</td>\n",
              "      <td>1</td>\n",
              "    </tr>\n",
              "    <tr>\n",
              "      <th>99</th>\n",
              "      <td>0</td>\n",
              "      <td>0</td>\n",
              "      <td>0</td>\n",
              "      <td>1</td>\n",
              "      <td>0</td>\n",
              "      <td>7</td>\n",
              "    </tr>\n",
              "    <tr>\n",
              "      <th>100</th>\n",
              "      <td>1</td>\n",
              "      <td>0</td>\n",
              "      <td>1</td>\n",
              "      <td>1</td>\n",
              "      <td>1</td>\n",
              "      <td>2</td>\n",
              "    </tr>\n",
              "  </tbody>\n",
              "</table>\n",
              "<p>101 rows × 6 columns</p>\n",
              "</div>"
            ],
            "text/plain": [
              "     feathers  toothed  backbone  breathes  tail  class\n",
              "0           0        1         1         1     0      1\n",
              "1           0        1         1         1     1      1\n",
              "2           0        1         1         0     1      4\n",
              "3           0        1         1         1     0      1\n",
              "4           0        1         1         1     1      1\n",
              "..        ...      ...       ...       ...   ...    ...\n",
              "96          0        1         1         1     1      1\n",
              "97          0        0         0         1     0      6\n",
              "98          0        1         1         1     1      1\n",
              "99          0        0         0         1     0      7\n",
              "100         1        0         1         1     1      2\n",
              "\n",
              "[101 rows x 6 columns]"
            ]
          },
          "metadata": {
            "tags": []
          },
          "execution_count": 17
        }
      ]
    },
    {
      "cell_type": "markdown",
      "metadata": {
        "id": "Uy7mh6Bfw_IQ"
      },
      "source": [
        "Normalization: (Burada her biri iki class olduğu için değerler değişmedi.)"
      ]
    },
    {
      "cell_type": "code",
      "metadata": {
        "colab": {
          "base_uri": "https://localhost:8080/",
          "height": 504
        },
        "id": "tyFZ8ONXzJDY",
        "outputId": "6e7dc9b8-6e9a-459d-fba2-04a35596b597"
      },
      "source": [
        "for i in dataset.columns[:-1]:\n",
        "    dataset[i][:] = list(map(lambda x: ((x-min(dataset[i][:])) / (max(dataset[i][:]) - min(dataset[i][:]))) , dataset[i][:]))#Datasetteki tüm değerleri max-min normalization methoduyla(0-1 aralığına) normalize eder.\n",
        "dataset"
      ],
      "execution_count": 18,
      "outputs": [
        {
          "output_type": "stream",
          "text": [
            "/usr/local/lib/python3.6/dist-packages/ipykernel_launcher.py:2: SettingWithCopyWarning: \n",
            "A value is trying to be set on a copy of a slice from a DataFrame\n",
            "\n",
            "See the caveats in the documentation: https://pandas.pydata.org/pandas-docs/stable/user_guide/indexing.html#returning-a-view-versus-a-copy\n",
            "  \n"
          ],
          "name": "stderr"
        },
        {
          "output_type": "execute_result",
          "data": {
            "text/html": [
              "<div>\n",
              "<style scoped>\n",
              "    .dataframe tbody tr th:only-of-type {\n",
              "        vertical-align: middle;\n",
              "    }\n",
              "\n",
              "    .dataframe tbody tr th {\n",
              "        vertical-align: top;\n",
              "    }\n",
              "\n",
              "    .dataframe thead th {\n",
              "        text-align: right;\n",
              "    }\n",
              "</style>\n",
              "<table border=\"1\" class=\"dataframe\">\n",
              "  <thead>\n",
              "    <tr style=\"text-align: right;\">\n",
              "      <th></th>\n",
              "      <th>feathers</th>\n",
              "      <th>toothed</th>\n",
              "      <th>backbone</th>\n",
              "      <th>breathes</th>\n",
              "      <th>tail</th>\n",
              "      <th>class</th>\n",
              "    </tr>\n",
              "  </thead>\n",
              "  <tbody>\n",
              "    <tr>\n",
              "      <th>0</th>\n",
              "      <td>0.0</td>\n",
              "      <td>1.0</td>\n",
              "      <td>1.0</td>\n",
              "      <td>1.0</td>\n",
              "      <td>0.0</td>\n",
              "      <td>1</td>\n",
              "    </tr>\n",
              "    <tr>\n",
              "      <th>1</th>\n",
              "      <td>0.0</td>\n",
              "      <td>1.0</td>\n",
              "      <td>1.0</td>\n",
              "      <td>1.0</td>\n",
              "      <td>1.0</td>\n",
              "      <td>1</td>\n",
              "    </tr>\n",
              "    <tr>\n",
              "      <th>2</th>\n",
              "      <td>0.0</td>\n",
              "      <td>1.0</td>\n",
              "      <td>1.0</td>\n",
              "      <td>0.0</td>\n",
              "      <td>1.0</td>\n",
              "      <td>4</td>\n",
              "    </tr>\n",
              "    <tr>\n",
              "      <th>3</th>\n",
              "      <td>0.0</td>\n",
              "      <td>1.0</td>\n",
              "      <td>1.0</td>\n",
              "      <td>1.0</td>\n",
              "      <td>0.0</td>\n",
              "      <td>1</td>\n",
              "    </tr>\n",
              "    <tr>\n",
              "      <th>4</th>\n",
              "      <td>0.0</td>\n",
              "      <td>1.0</td>\n",
              "      <td>1.0</td>\n",
              "      <td>1.0</td>\n",
              "      <td>1.0</td>\n",
              "      <td>1</td>\n",
              "    </tr>\n",
              "    <tr>\n",
              "      <th>...</th>\n",
              "      <td>...</td>\n",
              "      <td>...</td>\n",
              "      <td>...</td>\n",
              "      <td>...</td>\n",
              "      <td>...</td>\n",
              "      <td>...</td>\n",
              "    </tr>\n",
              "    <tr>\n",
              "      <th>96</th>\n",
              "      <td>0.0</td>\n",
              "      <td>1.0</td>\n",
              "      <td>1.0</td>\n",
              "      <td>1.0</td>\n",
              "      <td>1.0</td>\n",
              "      <td>1</td>\n",
              "    </tr>\n",
              "    <tr>\n",
              "      <th>97</th>\n",
              "      <td>0.0</td>\n",
              "      <td>0.0</td>\n",
              "      <td>0.0</td>\n",
              "      <td>1.0</td>\n",
              "      <td>0.0</td>\n",
              "      <td>6</td>\n",
              "    </tr>\n",
              "    <tr>\n",
              "      <th>98</th>\n",
              "      <td>0.0</td>\n",
              "      <td>1.0</td>\n",
              "      <td>1.0</td>\n",
              "      <td>1.0</td>\n",
              "      <td>1.0</td>\n",
              "      <td>1</td>\n",
              "    </tr>\n",
              "    <tr>\n",
              "      <th>99</th>\n",
              "      <td>0.0</td>\n",
              "      <td>0.0</td>\n",
              "      <td>0.0</td>\n",
              "      <td>1.0</td>\n",
              "      <td>0.0</td>\n",
              "      <td>7</td>\n",
              "    </tr>\n",
              "    <tr>\n",
              "      <th>100</th>\n",
              "      <td>1.0</td>\n",
              "      <td>0.0</td>\n",
              "      <td>1.0</td>\n",
              "      <td>1.0</td>\n",
              "      <td>1.0</td>\n",
              "      <td>2</td>\n",
              "    </tr>\n",
              "  </tbody>\n",
              "</table>\n",
              "<p>101 rows × 6 columns</p>\n",
              "</div>"
            ],
            "text/plain": [
              "     feathers  toothed  backbone  breathes  tail  class\n",
              "0         0.0      1.0       1.0       1.0   0.0      1\n",
              "1         0.0      1.0       1.0       1.0   1.0      1\n",
              "2         0.0      1.0       1.0       0.0   1.0      4\n",
              "3         0.0      1.0       1.0       1.0   0.0      1\n",
              "4         0.0      1.0       1.0       1.0   1.0      1\n",
              "..        ...      ...       ...       ...   ...    ...\n",
              "96        0.0      1.0       1.0       1.0   1.0      1\n",
              "97        0.0      0.0       0.0       1.0   0.0      6\n",
              "98        0.0      1.0       1.0       1.0   1.0      1\n",
              "99        0.0      0.0       0.0       1.0   0.0      7\n",
              "100       1.0      0.0       1.0       1.0   1.0      2\n",
              "\n",
              "[101 rows x 6 columns]"
            ]
          },
          "metadata": {
            "tags": []
          },
          "execution_count": 18
        }
      ]
    },
    {
      "cell_type": "markdown",
      "metadata": {
        "id": "LgNjBxw71cxO"
      },
      "source": [
        "Histogramlar:"
      ]
    },
    {
      "cell_type": "code",
      "metadata": {
        "colab": {
          "base_uri": "https://localhost:8080/",
          "height": 282
        },
        "id": "1c7lN9vpw969",
        "outputId": "185f7682-898c-487f-887a-db60417fb2c8"
      },
      "source": [
        "dataset['feathers'].hist()#feathers özelliğinin histogramını çizer."
      ],
      "execution_count": 23,
      "outputs": [
        {
          "output_type": "execute_result",
          "data": {
            "text/plain": [
              "<matplotlib.axes._subplots.AxesSubplot at 0x7f911c273a20>"
            ]
          },
          "metadata": {
            "tags": []
          },
          "execution_count": 23
        },
        {
          "output_type": "display_data",
          "data": {
            "image/png": "[encoded data removed]",
            "text/plain": [
              "<Figure size 432x288 with 1 Axes>"
            ]
          },
          "metadata": {
            "tags": [],
            "needs_background": "light"
          }
        }
      ]
    },
    {
      "cell_type": "code",
      "metadata": {
        "colab": {
          "base_uri": "https://localhost:8080/",
          "height": 282
        },
        "id": "RZ9qxfWG0uEE",
        "outputId": "57a08780-0eec-4574-bfe9-6e246db9e434"
      },
      "source": [
        "dataset['toothed'].hist()#toothed özelliğinin histogramını çizer."
      ],
      "execution_count": 22,
      "outputs": [
        {
          "output_type": "execute_result",
          "data": {
            "text/plain": [
              "<matplotlib.axes._subplots.AxesSubplot at 0x7f911c2f3630>"
            ]
          },
          "metadata": {
            "tags": []
          },
          "execution_count": 22
        },
        {
          "output_type": "display_data",
          "data": {
            "image/png": "[encoded data removed]",
            "text/plain": [
              "<Figure size 432x288 with 1 Axes>"
            ]
          },
          "metadata": {
            "tags": [],
            "needs_background": "light"
          }
        }
      ]
    },
    {
      "cell_type": "code",
      "metadata": {
        "colab": {
          "base_uri": "https://localhost:8080/",
          "height": 282
        },
        "id": "GCKLWKG79lcL",
        "outputId": "dc3be280-801a-4f68-adff-42b2aeb60c6e"
      },
      "source": [
        "dataset['backbone'].hist()#backbone özelliğinin histogramını çizer."
      ],
      "execution_count": 21,
      "outputs": [
        {
          "output_type": "execute_result",
          "data": {
            "text/plain": [
              "<matplotlib.axes._subplots.AxesSubplot at 0x7f911c965a90>"
            ]
          },
          "metadata": {
            "tags": []
          },
          "execution_count": 21
        },
        {
          "output_type": "display_data",
          "data": {
            "image/png": "[encoded data removed]",
            "text/plain": [
              "<Figure size 432x288 with 1 Axes>"
            ]
          },
          "metadata": {
            "tags": [],
            "needs_background": "light"
          }
        }
      ]
    },
    {
      "cell_type": "code",
      "metadata": {
        "colab": {
          "base_uri": "https://localhost:8080/",
          "height": 282
        },
        "id": "vrijDfGwuWzC",
        "outputId": "48423d08-35a6-4fc2-bb8f-a3defc0cdbb0"
      },
      "source": [
        "dataset['breathes'].hist()#breathes özelliğinin histogramını çizer.dataset['backbone'].hist()#safety özelliğinin histogramını çizer."
      ],
      "execution_count": 19,
      "outputs": [
        {
          "output_type": "execute_result",
          "data": {
            "text/plain": [
              "<matplotlib.axes._subplots.AxesSubplot at 0x7f911c937860>"
            ]
          },
          "metadata": {
            "tags": []
          },
          "execution_count": 19
        },
        {
          "output_type": "display_data",
          "data": {
            "image/png": "[encoded data removed]",
            "text/plain": [
              "<Figure size 432x288 with 1 Axes>"
            ]
          },
          "metadata": {
            "tags": [],
            "needs_background": "light"
          }
        }
      ]
    },
    {
      "cell_type": "code",
      "metadata": {
        "colab": {
          "base_uri": "https://localhost:8080/",
          "height": 282
        },
        "id": "DR7J2tmruX91",
        "outputId": "d602b7b5-e878-4925-9fb2-ecbe65f9a388"
      },
      "source": [
        "dataset['tail'].hist()#tail özelliğinin histogramını çizer."
      ],
      "execution_count": 20,
      "outputs": [
        {
          "output_type": "execute_result",
          "data": {
            "text/plain": [
              "<matplotlib.axes._subplots.AxesSubplot at 0x7f911c827278>"
            ]
          },
          "metadata": {
            "tags": []
          },
          "execution_count": 20
        },
        {
          "output_type": "display_data",
          "data": {
            "image/png": "[encoded data removed]",
            "text/plain": [
              "<Figure size 432x288 with 1 Axes>"
            ]
          },
          "metadata": {
            "tags": [],
            "needs_background": "light"
          }
        }
      ]
    },
    {
      "cell_type": "code",
      "metadata": {
        "colab": {
          "base_uri": "https://localhost:8080/",
          "height": 282
        },
        "id": "_GdktMY31G6k",
        "outputId": "3ddc74ef-0dd1-4f5d-e113-360ff230da9c"
      },
      "source": [
        "dataset['class'].hist()#class labelının histogramını çizer."
      ],
      "execution_count": 24,
      "outputs": [
        {
          "output_type": "execute_result",
          "data": {
            "text/plain": [
              "<matplotlib.axes._subplots.AxesSubplot at 0x7f911c1d87b8>"
            ]
          },
          "metadata": {
            "tags": []
          },
          "execution_count": 24
        },
        {
          "output_type": "display_data",
          "data": {
            "image/png": "[encoded data removed]",
            "text/plain": [
              "<Figure size 432x288 with 1 Axes>"
            ]
          },
          "metadata": {
            "tags": [],
            "needs_background": "light"
          }
        }
      ]
    },
    {
      "cell_type": "code",
      "metadata": {
        "id": "kDjGq9gXjQfv",
        "colab": {
          "base_uri": "https://localhost:8080/"
        },
        "outputId": "5c0256f6-40cb-4540-807b-b60b8ed7fbb9"
      },
      "source": [
        "train_data = dataset.iloc[:int(dataset.shape[0]*80/100)].reset_index(drop=True)#Datanın %75 ini train yapıyoruz.\n",
        "test_data = dataset.iloc[int(dataset.shape[0]*80/100):].reset_index(drop=True)#Datanın %25 sini test yapıyoruz.\n",
        "train_data.shape, test_data.shape"
      ],
      "execution_count": 25,
      "outputs": [
        {
          "output_type": "execute_result",
          "data": {
            "text/plain": [
              "((80, 6), (21, 6))"
            ]
          },
          "metadata": {
            "tags": []
          },
          "execution_count": 25
        }
      ]
    },
    {
      "cell_type": "markdown",
      "metadata": {
        "id": "DEW2t2My3er5"
      },
      "source": [
        "Entropy hesaplama:"
      ]
    },
    {
      "cell_type": "code",
      "metadata": {
        "id": "ygUJFvP-bsP-"
      },
      "source": [
        "def entropi(kolon):\n",
        "    labellar, sayılar = np.unique(kolon, return_counts = True) # bir kolondaki farklı değerleri ve o değerlerin sayılarını bulur.\n",
        "    entropy = 0\n",
        "    #bu kolondaki toplam etropy'i hesaplar.\n",
        "    for i in range(len(labellar)):\n",
        "      entropy += (-sayılar[i] / np.sum(sayılar)) * np.log2(sayılar[i] / np.sum(sayılar)) # fonksiyonu her değer için tek tek uygulayıp toplar.\n",
        "    return entropy"
      ],
      "execution_count": 26,
      "outputs": []
    },
    {
      "cell_type": "markdown",
      "metadata": {
        "id": "4o0681vAJBBE"
      },
      "source": [
        "Bilgi kazancını hesaplama:"
      ]
    },
    {
      "cell_type": "code",
      "metadata": {
        "id": "UegJvudSW3tV"
      },
      "source": [
        "def bilgi_kazancı(data, özellik, label):\n",
        "    data_entropi = entropi(data[label]) #label için entropy değerini hesaplar\n",
        "    özellikler, özellik_sayıları = np.unique(data[özellik], return_counts = True)\n",
        "\n",
        "    ağırlıklı_özellik_entropileri = 0\n",
        "    # her bir label değeri için ağırlıklı olan entropi değerini bulup toplar\n",
        "    for i in range(len(özellikler)):\n",
        "        ağırlıklı_özellik_entropileri += (özellik_sayıları[i] / np.sum(özellik_sayıları)) * (entropi(data.where(data[özellik] == özellikler[i]).dropna()[label]))#labelların ağırlıklı entropi değerlerini bulur\n",
        "\n",
        "    kazanc = data_entropi - ağırlıklı_özellik_entropileri #bilgi kazancını hesaplar\n",
        "\n",
        "    return kazanc"
      ],
      "execution_count": 27,
      "outputs": []
    },
    {
      "cell_type": "markdown",
      "metadata": {
        "id": "ZD3IbYsqhMFT"
      },
      "source": [
        "Kara ağacını oluşturma fonksiyonu:"
      ]
    },
    {
      "cell_type": "code",
      "metadata": {
        "id": "WiPgBaIpNQvW"
      },
      "source": [
        "def karar_ağacı(data, gerçek_data, özellikler, label=\"class\", ebeveyn = None):\n",
        "    if len(np.unique(data[label])) <= 1:#Label sayısı 1 yada 1 den azsa ilk labelı döndürür.\n",
        "        return np.unique(data[label])[0]\n",
        "\n",
        "    elif len(data)==0:#Data boşsa en fazla sayıdaki labelı döndürür.\n",
        "        return np.unique(gerçek_data[label])[np.argmax(np.unique(gerçek_data[label],return_counts=True)[1])]\n",
        "    \n",
        "    elif len(özellikler) ==0:#Hiç özellik yoksa ebeveynini döndürür.\n",
        "        \n",
        "        return ebeveyn\n",
        "  \n",
        "    else:\n",
        "        ebeveyn = np.unique(data[label])[np.argmax(np.unique(data[label], return_counts=True)[1])]\n",
        "\n",
        "        bilgi_kazancı_değerleri = []\n",
        "\n",
        "        for özellik in özellikler:\n",
        "            bilgi_kazancı_değerleri.append(bilgi_kazancı(data, özellik, label)) #Özelliklerin bilgi kazançlarını döndürür\n",
        "\n",
        "        bilgi_kazancı_değerleri = np.array(bilgi_kazancı_değerleri)\n",
        "        \n",
        "        en_iyi_değer_indeksi = np.argmax(bilgi_kazancı_değerleri)#En iyi değerin indeksini bulur.\n",
        "        \n",
        "        en_iyi_değer = özellikler[en_iyi_değer_indeksi]#En iyi değeri bulur.\n",
        "\n",
        "        ka_ağacı = {en_iyi_değer:{}}#En iyi özelliği karar ağacına ekler.\n",
        "\n",
        "        geçici_array = []\n",
        "        #Tüm özelliklerden en iyi özelliği çıkararak yeni özellikler array i oluşturur.\n",
        "        for özellik in özellikler:\n",
        "            if özellik != en_iyi_değer:\n",
        "                geçici_array.append(özellik)\n",
        "                \n",
        "        özellikler = np.array(geçici_array)\n",
        "        \n",
        "        for değer in np.unique(data[en_iyi_değer]):\n",
        "\n",
        "            alt_data = data.where(data[en_iyi_değer] == değer).dropna()#Datasetten en iyi özelliği çıkarıp yeni bir alt data oluşturur.\n",
        "            \n",
        "            alt_karar_ağacı = karar_ağacı(alt_data, gerçek_data, özellikler, label, ebeveyn)#Karar ağacı fonksiyonunu alt data için bir daha çağırır.\n",
        "            \n",
        "            ka_ağacı[en_iyi_değer][değer] = alt_karar_ağacı#Karar ağacına değerleri ekleyerek oluşturur.\n",
        "            \n",
        "        return ka_ağacı"
      ],
      "execution_count": 29,
      "outputs": []
    },
    {
      "cell_type": "code",
      "metadata": {
        "id": "413X0seyCfM-"
      },
      "source": [
        "k_ağacı = karar_ağacı(train_data, train_data, train_data.columns[:-1])#karar_ağacı fonksiyonunu çağırarak karar ağacını oluşturur."
      ],
      "execution_count": 30,
      "outputs": []
    },
    {
      "cell_type": "markdown",
      "metadata": {
        "id": "orsCc5w-3xnO"
      },
      "source": [
        "Karar ağacını yazdırma:"
      ]
    },
    {
      "cell_type": "code",
      "metadata": {
        "colab": {
          "base_uri": "https://localhost:8080/"
        },
        "id": "yWBAuXi5844a",
        "outputId": "b340bed6-05fe-43e2-a97f-f0ed9d1d2656"
      },
      "source": [
        "pprint(k_ağacı)#Karar ağacını pprint() fonksiyonunu kullanarak yazdırır."
      ],
      "execution_count": 31,
      "outputs": [
        {
          "output_type": "stream",
          "text": [
            "{'toothed': {0.0: {'feathers': {0.0: {'breathes': {0.0: 7.0,\n",
            "                                                   1.0: {'tail': {0.0: 6.0,\n",
            "                                                                  1.0: {'backbone': {0.0: 7.0,\n",
            "                                                                                     1.0: 1.0}}}}}},\n",
            "                                1.0: 2.0}},\n",
            "             1.0: {'breathes': {0.0: {'feathers': {0.0: {'backbone': {1.0: {'tail': {1.0: 4.0}}}}}},\n",
            "                                1.0: {'tail': {0.0: {'feathers': {0.0: {'backbone': {1.0: 1.0}}}},\n",
            "                                               1.0: {'feathers': {0.0: {'backbone': {1.0: 1.0}}}}}}}}}}\n"
          ],
          "name": "stdout"
        }
      ]
    },
    {
      "cell_type": "markdown",
      "metadata": {
        "id": "01paayDn31ic"
      },
      "source": [
        "Karar ağacına daha düzgün bir görünüş kazandırma:"
      ]
    },
    {
      "cell_type": "code",
      "metadata": {
        "colab": {
          "base_uri": "https://localhost:8080/"
        },
        "id": "6QL5Z_7hP9KU",
        "outputId": "4d635437-04b6-4f39-fd1c-2b9ce42bfc93"
      },
      "source": [
        "def printTree(tree, d = 0):\n",
        "    if (tree == None or len(tree) == 0):\n",
        "        print(\"\\t\" * d, \"-\")\n",
        "    else:\n",
        "        for key, val in tree.items():#Bu döngüde karar ağacının her bir itemine tek tek bakarak itemin yerine göre boşluk veya parantez ekleyerek karar ağacına daha düzgün bir görüntü kazandırır.\n",
        "            if (isinstance(val, dict)):\n",
        "                print(\"\\t\" * d, key)\n",
        "                printTree(val, d+1)\n",
        "            else:\n",
        "                print(\"\\t\" * d, key, str('(') , val , str(')'))\n",
        "\n",
        "printTree(k_ağacı)"
      ],
      "execution_count": 32,
      "outputs": [
        {
          "output_type": "stream",
          "text": [
            " toothed\n",
            "\t 0.0\n",
            "\t\t feathers\n",
            "\t\t\t 0.0\n",
            "\t\t\t\t breathes\n",
            "\t\t\t\t\t 0.0 ( 7.0 )\n",
            "\t\t\t\t\t 1.0\n",
            "\t\t\t\t\t\t tail\n",
            "\t\t\t\t\t\t\t 0.0 ( 6.0 )\n",
            "\t\t\t\t\t\t\t 1.0\n",
            "\t\t\t\t\t\t\t\t backbone\n",
            "\t\t\t\t\t\t\t\t\t 0.0 ( 7.0 )\n",
            "\t\t\t\t\t\t\t\t\t 1.0 ( 1.0 )\n",
            "\t\t\t 1.0 ( 2.0 )\n",
            "\t 1.0\n",
            "\t\t breathes\n",
            "\t\t\t 0.0\n",
            "\t\t\t\t feathers\n",
            "\t\t\t\t\t 0.0\n",
            "\t\t\t\t\t\t backbone\n",
            "\t\t\t\t\t\t\t 1.0\n",
            "\t\t\t\t\t\t\t\t tail\n",
            "\t\t\t\t\t\t\t\t\t 1.0 ( 4.0 )\n",
            "\t\t\t 1.0\n",
            "\t\t\t\t tail\n",
            "\t\t\t\t\t 0.0\n",
            "\t\t\t\t\t\t feathers\n",
            "\t\t\t\t\t\t\t 0.0\n",
            "\t\t\t\t\t\t\t\t backbone\n",
            "\t\t\t\t\t\t\t\t\t 1.0 ( 1.0 )\n",
            "\t\t\t\t\t 1.0\n",
            "\t\t\t\t\t\t feathers\n",
            "\t\t\t\t\t\t\t 0.0\n",
            "\t\t\t\t\t\t\t\t backbone\n",
            "\t\t\t\t\t\t\t\t\t 1.0 ( 1.0 )\n"
          ],
          "name": "stdout"
        }
      ]
    },
    {
      "cell_type": "code",
      "metadata": {
        "id": "3Cd3vh2E-_aw"
      },
      "source": [
        "def tahmin(dizi, karar_ağacı):\n",
        "    for anahtar in list(dizi.keys()):\n",
        "        if anahtar in list(karar_ağacı.keys()):#Anahtarın karar ağacında olup olmadığına bakar.\n",
        "            try:\n",
        "                sonuç = karar_ağacı[anahtar][dizi[anahtar]]#Anahtarın karar ağacındaki yerini saptar.\n",
        "            except:\n",
        "                return -1\n",
        "\n",
        "            if isinstance(sonuç, dict):\n",
        "                return tahmin(dizi,sonuç)\n",
        "            else:\n",
        "                return sonuç"
      ],
      "execution_count": 33,
      "outputs": []
    },
    {
      "cell_type": "code",
      "metadata": {
        "id": "Wbsym5eU_C99"
      },
      "source": [
        "def test(data, k_ağacı):\n",
        "    \n",
        "    diziler = data.iloc[:,:-1].to_dict(orient = \"records\")#Yeni bir dizi oluşturarak datayı labeldan arındırır.\n",
        "    \n",
        "    tahmin_edilen = pd.DataFrame(columns=[\"tahmin_edilen\"])#Tahmin değerlerini kaydetmek için bir dataframe oluşturur.\n",
        "    \n",
        "    for i in range(len(data)):\n",
        "        tahmin_edilen.loc[i,\"tahmin_edilen\"] = tahmin(diziler[i], k_ağacı)#Tek tek datadaki her bir örneği tahmin eder.\n",
        "         \n",
        "    print('Tahmin doğruluğu = {}'.format(np.sum(tahmin_edilen[\"tahmin_edilen\"] == data[\"class\"])/len(data)))#Tahmin edilen labelları gerçek labellarla karşılaştırarak doğruluk oranını bulur."
      ],
      "execution_count": 34,
      "outputs": []
    },
    {
      "cell_type": "code",
      "metadata": {
        "colab": {
          "base_uri": "https://localhost:8080/"
        },
        "id": "_1huLBOG_IWP",
        "outputId": "cb976866-ed10-482c-acbe-7e3d54ebf687"
      },
      "source": [
        "test(test_data, k_ağacı)"
      ],
      "execution_count": 35,
      "outputs": [
        {
          "output_type": "stream",
          "text": [
            "Tahmin doğruluğu = 0.7142857142857143\n"
          ],
          "name": "stdout"
        }
      ]
    },
    {
      "cell_type": "code",
      "metadata": {
        "colab": {
          "base_uri": "https://localhost:8080/"
        },
        "id": "qpp2yv9k-Wf-",
        "outputId": "e6d13f87-3709-4600-ed9f-092e49764a30"
      },
      "source": [
        "tahmin({'feathers': 1, 'toothed': 0, 'backbone': 1, 'breathes': 0, 'tail': 0}, k_ağacı)"
      ],
      "execution_count": 39,
      "outputs": [
        {
          "output_type": "execute_result",
          "data": {
            "text/plain": [
              "2.0"
            ]
          },
          "metadata": {
            "tags": []
          },
          "execution_count": 39
        }
      ]
    }
  ]
}